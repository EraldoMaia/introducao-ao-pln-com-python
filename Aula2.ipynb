{
 "cells": [
  {
   "cell_type": "markdown",
   "metadata": {
    "colab_type": "text",
    "id": "8Ww4S_9ImpDk"
   },
   "source": [
    "# Introdução ao Processamento de Linguagem Natural com Python (Parte 1)"
   ]
  },
  {
   "cell_type": "markdown",
   "metadata": {
    "colab": {},
    "colab_type": "code",
    "id": "1MC5elfRBjmH"
   },
   "source": [
    "### Explorando e vetorizando dados textuais."
   ]
  },
  {
   "cell_type": "code",
   "execution_count": 0,
   "metadata": {
    "colab": {},
    "colab_type": "code",
    "id": "AJKFVS6umpDp"
   },
   "outputs": [],
   "source": [
    "import pandas as pd\n",
    "\n",
    "resenha = pd.read_csv(\"dados/imdb-reviews-pt-br.csv\")"
   ]
  },
  {
   "cell_type": "code",
   "execution_count": 0,
   "metadata": {
    "colab": {},
    "colab_type": "code",
    "id": "O8QM2FJDmpD2",
    "outputId": "59b9b750-9ef2-41bb-a578-2ec84b0c7457"
   },
   "outputs": [
    {
     "data": {
      "text/html": [
       "<div>\n",
       "<style scoped>\n",
       "    .dataframe tbody tr th:only-of-type {\n",
       "        vertical-align: middle;\n",
       "    }\n",
       "\n",
       "    .dataframe tbody tr th {\n",
       "        vertical-align: top;\n",
       "    }\n",
       "\n",
       "    .dataframe thead th {\n",
       "        text-align: right;\n",
       "    }\n",
       "</style>\n",
       "<table border=\"1\" class=\"dataframe\">\n",
       "  <thead>\n",
       "    <tr style=\"text-align: right;\">\n",
       "      <th></th>\n",
       "      <th>id</th>\n",
       "      <th>text_en</th>\n",
       "      <th>text_pt</th>\n",
       "      <th>sentiment</th>\n",
       "    </tr>\n",
       "  </thead>\n",
       "  <tbody>\n",
       "    <tr>\n",
       "      <th>0</th>\n",
       "      <td>1</td>\n",
       "      <td>Once again Mr. Costner has dragged out a movie...</td>\n",
       "      <td>Mais uma vez, o Sr. Costner arrumou um filme p...</td>\n",
       "      <td>neg</td>\n",
       "    </tr>\n",
       "    <tr>\n",
       "      <th>1</th>\n",
       "      <td>2</td>\n",
       "      <td>This is an example of why the majority of acti...</td>\n",
       "      <td>Este é um exemplo do motivo pelo qual a maiori...</td>\n",
       "      <td>neg</td>\n",
       "    </tr>\n",
       "    <tr>\n",
       "      <th>2</th>\n",
       "      <td>3</td>\n",
       "      <td>First of all I hate those moronic rappers, who...</td>\n",
       "      <td>Primeiro de tudo eu odeio esses raps imbecis, ...</td>\n",
       "      <td>neg</td>\n",
       "    </tr>\n",
       "    <tr>\n",
       "      <th>3</th>\n",
       "      <td>4</td>\n",
       "      <td>Not even the Beatles could write songs everyon...</td>\n",
       "      <td>Nem mesmo os Beatles puderam escrever músicas ...</td>\n",
       "      <td>neg</td>\n",
       "    </tr>\n",
       "    <tr>\n",
       "      <th>4</th>\n",
       "      <td>5</td>\n",
       "      <td>Brass pictures movies is not a fitting word fo...</td>\n",
       "      <td>Filmes de fotos de latão não é uma palavra apr...</td>\n",
       "      <td>neg</td>\n",
       "    </tr>\n",
       "    <tr>\n",
       "      <th>5</th>\n",
       "      <td>6</td>\n",
       "      <td>A funny thing happened to me while watching \"M...</td>\n",
       "      <td>Uma coisa engraçada aconteceu comigo enquanto ...</td>\n",
       "      <td>neg</td>\n",
       "    </tr>\n",
       "    <tr>\n",
       "      <th>6</th>\n",
       "      <td>7</td>\n",
       "      <td>This German horror film has to be one of the w...</td>\n",
       "      <td>Este filme de terror alemão tem que ser um dos...</td>\n",
       "      <td>neg</td>\n",
       "    </tr>\n",
       "    <tr>\n",
       "      <th>7</th>\n",
       "      <td>8</td>\n",
       "      <td>Being a long-time fan of Japanese film, I expe...</td>\n",
       "      <td>Sendo um fã de longa data do cinema japonês, e...</td>\n",
       "      <td>neg</td>\n",
       "    </tr>\n",
       "    <tr>\n",
       "      <th>8</th>\n",
       "      <td>9</td>\n",
       "      <td>\"Tokyo Eyes\" tells of a 17 year old Japanese g...</td>\n",
       "      <td>\"Tokyo Eyes\" fala de uma menina japonesa de 17...</td>\n",
       "      <td>neg</td>\n",
       "    </tr>\n",
       "    <tr>\n",
       "      <th>9</th>\n",
       "      <td>10</td>\n",
       "      <td>Wealthy horse ranchers in Buenos Aires have a ...</td>\n",
       "      <td>Fazendeiros ricos em Buenos Aires têm uma long...</td>\n",
       "      <td>neg</td>\n",
       "    </tr>\n",
       "    <tr>\n",
       "      <th>10</th>\n",
       "      <td>11</td>\n",
       "      <td>Cage plays a drunk and gets high critically pr...</td>\n",
       "      <td>Cage interpreta um bêbado e é elogiado pela cr...</td>\n",
       "      <td>neg</td>\n",
       "    </tr>\n",
       "    <tr>\n",
       "      <th>11</th>\n",
       "      <td>12</td>\n",
       "      <td>First of all, I would like to say that I am a ...</td>\n",
       "      <td>Primeiro de tudo, eu gostaria de dizer que sou...</td>\n",
       "      <td>neg</td>\n",
       "    </tr>\n",
       "    <tr>\n",
       "      <th>12</th>\n",
       "      <td>13</td>\n",
       "      <td>So tell me - what serious boozer drinks Budwei...</td>\n",
       "      <td>Então me diga - que boozer sério bebe a Budwei...</td>\n",
       "      <td>neg</td>\n",
       "    </tr>\n",
       "    <tr>\n",
       "      <th>13</th>\n",
       "      <td>14</td>\n",
       "      <td>A big disappointment for what was touted as an...</td>\n",
       "      <td>Uma grande decepção para o que foi apresentado...</td>\n",
       "      <td>neg</td>\n",
       "    </tr>\n",
       "    <tr>\n",
       "      <th>14</th>\n",
       "      <td>15</td>\n",
       "      <td>This film is absolutely appalling and awful. I...</td>\n",
       "      <td>Este filme é absolutamente terrível e horrível...</td>\n",
       "      <td>neg</td>\n",
       "    </tr>\n",
       "    <tr>\n",
       "      <th>15</th>\n",
       "      <td>16</td>\n",
       "      <td>Heres a decidedly average Italian post apocaly...</td>\n",
       "      <td>Heres um decididamente médio post italiano apo...</td>\n",
       "      <td>neg</td>\n",
       "    </tr>\n",
       "    <tr>\n",
       "      <th>16</th>\n",
       "      <td>17</td>\n",
       "      <td>At the bottom end of the apocalypse movie scal...</td>\n",
       "      <td>Na parte inferior da escala de filmes do apoca...</td>\n",
       "      <td>neg</td>\n",
       "    </tr>\n",
       "    <tr>\n",
       "      <th>17</th>\n",
       "      <td>18</td>\n",
       "      <td>Earth has been destroyed in a nuclear holocaus...</td>\n",
       "      <td>A terra foi destruída em um holocausto nuclear...</td>\n",
       "      <td>neg</td>\n",
       "    </tr>\n",
       "    <tr>\n",
       "      <th>18</th>\n",
       "      <td>19</td>\n",
       "      <td>Many people are standing in front of the house...</td>\n",
       "      <td>Muitas pessoas estão em pé na frente da casa n...</td>\n",
       "      <td>neg</td>\n",
       "    </tr>\n",
       "    <tr>\n",
       "      <th>19</th>\n",
       "      <td>20</td>\n",
       "      <td>New York family is the last in their neighborh...</td>\n",
       "      <td>A família de Nova York é a última em seu bairr...</td>\n",
       "      <td>neg</td>\n",
       "    </tr>\n",
       "    <tr>\n",
       "      <th>20</th>\n",
       "      <td>21</td>\n",
       "      <td>The best thing about \"The Prey\" is the tag lin...</td>\n",
       "      <td>A melhor coisa sobre \"The Prey\" é o slogan ......</td>\n",
       "      <td>neg</td>\n",
       "    </tr>\n",
       "    <tr>\n",
       "      <th>21</th>\n",
       "      <td>22</td>\n",
       "      <td>This is truly, without exaggerating, one of th...</td>\n",
       "      <td>Isto é verdadeiramente, sem exagerar, um dos p...</td>\n",
       "      <td>neg</td>\n",
       "    </tr>\n",
       "    <tr>\n",
       "      <th>22</th>\n",
       "      <td>23</td>\n",
       "      <td>Im a huge fan of both Emily Watson Breaking Th...</td>\n",
       "      <td>Sou um grande fã de Emily Watson, Breaking The...</td>\n",
       "      <td>neg</td>\n",
       "    </tr>\n",
       "    <tr>\n",
       "      <th>23</th>\n",
       "      <td>24</td>\n",
       "      <td>Sure, most of the slasher films of the 1980s w...</td>\n",
       "      <td>Claro, a maioria dos filmes de terror da décad...</td>\n",
       "      <td>neg</td>\n",
       "    </tr>\n",
       "    <tr>\n",
       "      <th>24</th>\n",
       "      <td>25</td>\n",
       "      <td>I think that would have been a more appropriat...</td>\n",
       "      <td>Eu acho que teria sido um título mais apropria...</td>\n",
       "      <td>neg</td>\n",
       "    </tr>\n",
       "    <tr>\n",
       "      <th>25</th>\n",
       "      <td>26</td>\n",
       "      <td>1980 was certainly a year for bad backwoods sl...</td>\n",
       "      <td>1980 foi certamente um ano para maus filmes de...</td>\n",
       "      <td>neg</td>\n",
       "    </tr>\n",
       "    <tr>\n",
       "      <th>26</th>\n",
       "      <td>27</td>\n",
       "      <td>Everything everyone has said already pretty mu...</td>\n",
       "      <td>Tudo o que todo mundo já disse é verdade quand...</td>\n",
       "      <td>neg</td>\n",
       "    </tr>\n",
       "    <tr>\n",
       "      <th>27</th>\n",
       "      <td>28</td>\n",
       "      <td>Uhhh ... so, did they even have writers for th...</td>\n",
       "      <td>Uhhh ... então, eles ainda têm escritores para...</td>\n",
       "      <td>neg</td>\n",
       "    </tr>\n",
       "    <tr>\n",
       "      <th>28</th>\n",
       "      <td>29</td>\n",
       "      <td>Oh yeah, this one is definitely a strong conte...</td>\n",
       "      <td>Ah, sim, este é definitivamente um forte candi...</td>\n",
       "      <td>neg</td>\n",
       "    </tr>\n",
       "    <tr>\n",
       "      <th>29</th>\n",
       "      <td>30</td>\n",
       "      <td>Supercraptastic slasher fare, which feels over...</td>\n",
       "      <td>Receita de slash supercraptástico, que parece ...</td>\n",
       "      <td>neg</td>\n",
       "    </tr>\n",
       "    <tr>\n",
       "      <th>...</th>\n",
       "      <td>...</td>\n",
       "      <td>...</td>\n",
       "      <td>...</td>\n",
       "      <td>...</td>\n",
       "    </tr>\n",
       "    <tr>\n",
       "      <th>49429</th>\n",
       "      <td>49431</td>\n",
       "      <td>its not as good as the first movie,but its a g...</td>\n",
       "      <td>não é tão bom quanto o primeiro filme, mas é u...</td>\n",
       "      <td>pos</td>\n",
       "    </tr>\n",
       "    <tr>\n",
       "      <th>49430</th>\n",
       "      <td>49432</td>\n",
       "      <td>Sure, it was cheesy and nonsensical and at tim...</td>\n",
       "      <td>Claro, era brega e sem sentido e às vezes breg...</td>\n",
       "      <td>pos</td>\n",
       "    </tr>\n",
       "    <tr>\n",
       "      <th>49431</th>\n",
       "      <td>49433</td>\n",
       "      <td>SPOILERS THROUGH: I really am in the minority ...</td>\n",
       "      <td>SPOILERS ATRAVÉS: Eu realmente estou em minori...</td>\n",
       "      <td>pos</td>\n",
       "    </tr>\n",
       "    <tr>\n",
       "      <th>49432</th>\n",
       "      <td>49434</td>\n",
       "      <td>I have to say, I loved Vanishing Point. Ive se...</td>\n",
       "      <td>Eu tenho que dizer, eu amei Vanishing Point. E...</td>\n",
       "      <td>pos</td>\n",
       "    </tr>\n",
       "    <tr>\n",
       "      <th>49433</th>\n",
       "      <td>49435</td>\n",
       "      <td>To start off with, since this movie is a remak...</td>\n",
       "      <td>Para começar, já que este filme é um remake de...</td>\n",
       "      <td>pos</td>\n",
       "    </tr>\n",
       "    <tr>\n",
       "      <th>49434</th>\n",
       "      <td>49436</td>\n",
       "      <td>I have to agree with most of the other posts. ...</td>\n",
       "      <td>Eu tenho que concordar com a maioria dos outro...</td>\n",
       "      <td>pos</td>\n",
       "    </tr>\n",
       "    <tr>\n",
       "      <th>49435</th>\n",
       "      <td>49437</td>\n",
       "      <td>Any movie that shows federal PIGs Persons In G...</td>\n",
       "      <td>Qualquer filme que mostre que os PIGs federais...</td>\n",
       "      <td>pos</td>\n",
       "    </tr>\n",
       "    <tr>\n",
       "      <th>49436</th>\n",
       "      <td>49438</td>\n",
       "      <td>In Canadian director Kari Skoglands film adapt...</td>\n",
       "      <td>No diretor canadense Kari Skoglands, adaptação...</td>\n",
       "      <td>pos</td>\n",
       "    </tr>\n",
       "    <tr>\n",
       "      <th>49437</th>\n",
       "      <td>49439</td>\n",
       "      <td>I saw this movie last night after waiting ages...</td>\n",
       "      <td>Eu vi este filme ontem à noite depois de esper...</td>\n",
       "      <td>pos</td>\n",
       "    </tr>\n",
       "    <tr>\n",
       "      <th>49438</th>\n",
       "      <td>49440</td>\n",
       "      <td>This movie is about basically human relations,...</td>\n",
       "      <td>Este filme é basicamente sobre relações humana...</td>\n",
       "      <td>pos</td>\n",
       "    </tr>\n",
       "    <tr>\n",
       "      <th>49439</th>\n",
       "      <td>49441</td>\n",
       "      <td>I was surprised at just how much I enjoyed thi...</td>\n",
       "      <td>Fiquei surpreso com o quanto eu gostei deste d...</td>\n",
       "      <td>pos</td>\n",
       "    </tr>\n",
       "    <tr>\n",
       "      <th>49440</th>\n",
       "      <td>49442</td>\n",
       "      <td>I saw this film in Winnipeg recently - appropr...</td>\n",
       "      <td>Eu vi este filme em Winnipeg recentemente - ap...</td>\n",
       "      <td>pos</td>\n",
       "    </tr>\n",
       "    <tr>\n",
       "      <th>49441</th>\n",
       "      <td>49443</td>\n",
       "      <td>As perhaps one of the few Canadians who did no...</td>\n",
       "      <td>Como talvez um dos poucos canadenses que não l...</td>\n",
       "      <td>pos</td>\n",
       "    </tr>\n",
       "    <tr>\n",
       "      <th>49442</th>\n",
       "      <td>49444</td>\n",
       "      <td>I was very moved by the story and because I am...</td>\n",
       "      <td>Fiquei muito comovido com a história e porque ...</td>\n",
       "      <td>pos</td>\n",
       "    </tr>\n",
       "    <tr>\n",
       "      <th>49443</th>\n",
       "      <td>49445</td>\n",
       "      <td>What I loved about the on-screen adaptation of...</td>\n",
       "      <td>O que eu amei na adaptação para a tela de The ...</td>\n",
       "      <td>pos</td>\n",
       "    </tr>\n",
       "    <tr>\n",
       "      <th>49444</th>\n",
       "      <td>49446</td>\n",
       "      <td>I had a chance to see a screening of this movi...</td>\n",
       "      <td>Eu tive a chance de ver uma exibição desse fil...</td>\n",
       "      <td>pos</td>\n",
       "    </tr>\n",
       "    <tr>\n",
       "      <th>49445</th>\n",
       "      <td>49447</td>\n",
       "      <td>This is a really interesting movie. It is an a...</td>\n",
       "      <td>Este é um filme muito interessante. É um filme...</td>\n",
       "      <td>pos</td>\n",
       "    </tr>\n",
       "    <tr>\n",
       "      <th>49446</th>\n",
       "      <td>49448</td>\n",
       "      <td>I saw the movie recently and really liked it. ...</td>\n",
       "      <td>Eu vi o filme recentemente e realmente gostei....</td>\n",
       "      <td>pos</td>\n",
       "    </tr>\n",
       "    <tr>\n",
       "      <th>49447</th>\n",
       "      <td>49449</td>\n",
       "      <td>I thought this movie was hysterical. I have wa...</td>\n",
       "      <td>Eu pensei que esse filme fosse histérico. Eu a...</td>\n",
       "      <td>pos</td>\n",
       "    </tr>\n",
       "    <tr>\n",
       "      <th>49448</th>\n",
       "      <td>49450</td>\n",
       "      <td>...this is a classic with so many great dialog...</td>\n",
       "      <td>... este é um clássico com tantos grandes diál...</td>\n",
       "      <td>pos</td>\n",
       "    </tr>\n",
       "    <tr>\n",
       "      <th>49449</th>\n",
       "      <td>49451</td>\n",
       "      <td>The most hillarious and funny Brooks movie I e...</td>\n",
       "      <td>O mais hillarious e engraçado filme de Brooks ...</td>\n",
       "      <td>pos</td>\n",
       "    </tr>\n",
       "    <tr>\n",
       "      <th>49450</th>\n",
       "      <td>49452</td>\n",
       "      <td>\"Life stinks\" is a parody of life and death, h...</td>\n",
       "      <td>\"A vida cheira mal\" é uma paródia de vida e mo...</td>\n",
       "      <td>pos</td>\n",
       "    </tr>\n",
       "    <tr>\n",
       "      <th>49451</th>\n",
       "      <td>49453</td>\n",
       "      <td>This is the kind of film you want to see with ...</td>\n",
       "      <td>Este é o tipo de filme que você quer ver com u...</td>\n",
       "      <td>pos</td>\n",
       "    </tr>\n",
       "    <tr>\n",
       "      <th>49452</th>\n",
       "      <td>49454</td>\n",
       "      <td>I have not read the other comments on the film...</td>\n",
       "      <td>Eu não li os outros comentários sobre o filme,...</td>\n",
       "      <td>pos</td>\n",
       "    </tr>\n",
       "    <tr>\n",
       "      <th>49453</th>\n",
       "      <td>49455</td>\n",
       "      <td>Life Stinks 1991 was a step below Mel Brooks o...</td>\n",
       "      <td>Life Stinks 1991 foi um passo abaixo de outras...</td>\n",
       "      <td>pos</td>\n",
       "    </tr>\n",
       "    <tr>\n",
       "      <th>49454</th>\n",
       "      <td>49456</td>\n",
       "      <td>Seeing as the vote average was pretty low, and...</td>\n",
       "      <td>Como a média de votos era muito baixa, e o fat...</td>\n",
       "      <td>pos</td>\n",
       "    </tr>\n",
       "    <tr>\n",
       "      <th>49455</th>\n",
       "      <td>49457</td>\n",
       "      <td>The plot had some wretched, unbelievable twist...</td>\n",
       "      <td>O enredo teve algumas reviravoltas infelizes e...</td>\n",
       "      <td>pos</td>\n",
       "    </tr>\n",
       "    <tr>\n",
       "      <th>49456</th>\n",
       "      <td>49458</td>\n",
       "      <td>I am amazed at how this movieand most others h...</td>\n",
       "      <td>Estou espantado com a forma como este filme e ...</td>\n",
       "      <td>pos</td>\n",
       "    </tr>\n",
       "    <tr>\n",
       "      <th>49457</th>\n",
       "      <td>49459</td>\n",
       "      <td>A Christmas Together actually came before my t...</td>\n",
       "      <td>A Christmas Together realmente veio antes do m...</td>\n",
       "      <td>pos</td>\n",
       "    </tr>\n",
       "    <tr>\n",
       "      <th>49458</th>\n",
       "      <td>49460</td>\n",
       "      <td>Working-class romantic drama from director Mar...</td>\n",
       "      <td>O drama romântico da classe trabalhadora do di...</td>\n",
       "      <td>pos</td>\n",
       "    </tr>\n",
       "  </tbody>\n",
       "</table>\n",
       "<p>49459 rows × 4 columns</p>\n",
       "</div>"
      ],
      "text/plain": [
       "          id                                            text_en  \\\n",
       "0          1  Once again Mr. Costner has dragged out a movie...   \n",
       "1          2  This is an example of why the majority of acti...   \n",
       "2          3  First of all I hate those moronic rappers, who...   \n",
       "3          4  Not even the Beatles could write songs everyon...   \n",
       "4          5  Brass pictures movies is not a fitting word fo...   \n",
       "5          6  A funny thing happened to me while watching \"M...   \n",
       "6          7  This German horror film has to be one of the w...   \n",
       "7          8  Being a long-time fan of Japanese film, I expe...   \n",
       "8          9  \"Tokyo Eyes\" tells of a 17 year old Japanese g...   \n",
       "9         10  Wealthy horse ranchers in Buenos Aires have a ...   \n",
       "10        11  Cage plays a drunk and gets high critically pr...   \n",
       "11        12  First of all, I would like to say that I am a ...   \n",
       "12        13  So tell me - what serious boozer drinks Budwei...   \n",
       "13        14  A big disappointment for what was touted as an...   \n",
       "14        15  This film is absolutely appalling and awful. I...   \n",
       "15        16  Heres a decidedly average Italian post apocaly...   \n",
       "16        17  At the bottom end of the apocalypse movie scal...   \n",
       "17        18  Earth has been destroyed in a nuclear holocaus...   \n",
       "18        19  Many people are standing in front of the house...   \n",
       "19        20  New York family is the last in their neighborh...   \n",
       "20        21  The best thing about \"The Prey\" is the tag lin...   \n",
       "21        22  This is truly, without exaggerating, one of th...   \n",
       "22        23  Im a huge fan of both Emily Watson Breaking Th...   \n",
       "23        24  Sure, most of the slasher films of the 1980s w...   \n",
       "24        25  I think that would have been a more appropriat...   \n",
       "25        26  1980 was certainly a year for bad backwoods sl...   \n",
       "26        27  Everything everyone has said already pretty mu...   \n",
       "27        28  Uhhh ... so, did they even have writers for th...   \n",
       "28        29  Oh yeah, this one is definitely a strong conte...   \n",
       "29        30  Supercraptastic slasher fare, which feels over...   \n",
       "...      ...                                                ...   \n",
       "49429  49431  its not as good as the first movie,but its a g...   \n",
       "49430  49432  Sure, it was cheesy and nonsensical and at tim...   \n",
       "49431  49433  SPOILERS THROUGH: I really am in the minority ...   \n",
       "49432  49434  I have to say, I loved Vanishing Point. Ive se...   \n",
       "49433  49435  To start off with, since this movie is a remak...   \n",
       "49434  49436  I have to agree with most of the other posts. ...   \n",
       "49435  49437  Any movie that shows federal PIGs Persons In G...   \n",
       "49436  49438  In Canadian director Kari Skoglands film adapt...   \n",
       "49437  49439  I saw this movie last night after waiting ages...   \n",
       "49438  49440  This movie is about basically human relations,...   \n",
       "49439  49441  I was surprised at just how much I enjoyed thi...   \n",
       "49440  49442  I saw this film in Winnipeg recently - appropr...   \n",
       "49441  49443  As perhaps one of the few Canadians who did no...   \n",
       "49442  49444  I was very moved by the story and because I am...   \n",
       "49443  49445  What I loved about the on-screen adaptation of...   \n",
       "49444  49446  I had a chance to see a screening of this movi...   \n",
       "49445  49447  This is a really interesting movie. It is an a...   \n",
       "49446  49448  I saw the movie recently and really liked it. ...   \n",
       "49447  49449  I thought this movie was hysterical. I have wa...   \n",
       "49448  49450  ...this is a classic with so many great dialog...   \n",
       "49449  49451  The most hillarious and funny Brooks movie I e...   \n",
       "49450  49452  \"Life stinks\" is a parody of life and death, h...   \n",
       "49451  49453  This is the kind of film you want to see with ...   \n",
       "49452  49454  I have not read the other comments on the film...   \n",
       "49453  49455  Life Stinks 1991 was a step below Mel Brooks o...   \n",
       "49454  49456  Seeing as the vote average was pretty low, and...   \n",
       "49455  49457  The plot had some wretched, unbelievable twist...   \n",
       "49456  49458  I am amazed at how this movieand most others h...   \n",
       "49457  49459  A Christmas Together actually came before my t...   \n",
       "49458  49460  Working-class romantic drama from director Mar...   \n",
       "\n",
       "                                                 text_pt sentiment  \n",
       "0      Mais uma vez, o Sr. Costner arrumou um filme p...       neg  \n",
       "1      Este é um exemplo do motivo pelo qual a maiori...       neg  \n",
       "2      Primeiro de tudo eu odeio esses raps imbecis, ...       neg  \n",
       "3      Nem mesmo os Beatles puderam escrever músicas ...       neg  \n",
       "4      Filmes de fotos de latão não é uma palavra apr...       neg  \n",
       "5      Uma coisa engraçada aconteceu comigo enquanto ...       neg  \n",
       "6      Este filme de terror alemão tem que ser um dos...       neg  \n",
       "7      Sendo um fã de longa data do cinema japonês, e...       neg  \n",
       "8      \"Tokyo Eyes\" fala de uma menina japonesa de 17...       neg  \n",
       "9      Fazendeiros ricos em Buenos Aires têm uma long...       neg  \n",
       "10     Cage interpreta um bêbado e é elogiado pela cr...       neg  \n",
       "11     Primeiro de tudo, eu gostaria de dizer que sou...       neg  \n",
       "12     Então me diga - que boozer sério bebe a Budwei...       neg  \n",
       "13     Uma grande decepção para o que foi apresentado...       neg  \n",
       "14     Este filme é absolutamente terrível e horrível...       neg  \n",
       "15     Heres um decididamente médio post italiano apo...       neg  \n",
       "16     Na parte inferior da escala de filmes do apoca...       neg  \n",
       "17     A terra foi destruída em um holocausto nuclear...       neg  \n",
       "18     Muitas pessoas estão em pé na frente da casa n...       neg  \n",
       "19     A família de Nova York é a última em seu bairr...       neg  \n",
       "20     A melhor coisa sobre \"The Prey\" é o slogan ......       neg  \n",
       "21     Isto é verdadeiramente, sem exagerar, um dos p...       neg  \n",
       "22     Sou um grande fã de Emily Watson, Breaking The...       neg  \n",
       "23     Claro, a maioria dos filmes de terror da décad...       neg  \n",
       "24     Eu acho que teria sido um título mais apropria...       neg  \n",
       "25     1980 foi certamente um ano para maus filmes de...       neg  \n",
       "26     Tudo o que todo mundo já disse é verdade quand...       neg  \n",
       "27     Uhhh ... então, eles ainda têm escritores para...       neg  \n",
       "28     Ah, sim, este é definitivamente um forte candi...       neg  \n",
       "29     Receita de slash supercraptástico, que parece ...       neg  \n",
       "...                                                  ...       ...  \n",
       "49429  não é tão bom quanto o primeiro filme, mas é u...       pos  \n",
       "49430  Claro, era brega e sem sentido e às vezes breg...       pos  \n",
       "49431  SPOILERS ATRAVÉS: Eu realmente estou em minori...       pos  \n",
       "49432  Eu tenho que dizer, eu amei Vanishing Point. E...       pos  \n",
       "49433  Para começar, já que este filme é um remake de...       pos  \n",
       "49434  Eu tenho que concordar com a maioria dos outro...       pos  \n",
       "49435  Qualquer filme que mostre que os PIGs federais...       pos  \n",
       "49436  No diretor canadense Kari Skoglands, adaptação...       pos  \n",
       "49437  Eu vi este filme ontem à noite depois de esper...       pos  \n",
       "49438  Este filme é basicamente sobre relações humana...       pos  \n",
       "49439  Fiquei surpreso com o quanto eu gostei deste d...       pos  \n",
       "49440  Eu vi este filme em Winnipeg recentemente - ap...       pos  \n",
       "49441  Como talvez um dos poucos canadenses que não l...       pos  \n",
       "49442  Fiquei muito comovido com a história e porque ...       pos  \n",
       "49443  O que eu amei na adaptação para a tela de The ...       pos  \n",
       "49444  Eu tive a chance de ver uma exibição desse fil...       pos  \n",
       "49445  Este é um filme muito interessante. É um filme...       pos  \n",
       "49446  Eu vi o filme recentemente e realmente gostei....       pos  \n",
       "49447  Eu pensei que esse filme fosse histérico. Eu a...       pos  \n",
       "49448  ... este é um clássico com tantos grandes diál...       pos  \n",
       "49449  O mais hillarious e engraçado filme de Brooks ...       pos  \n",
       "49450  \"A vida cheira mal\" é uma paródia de vida e mo...       pos  \n",
       "49451  Este é o tipo de filme que você quer ver com u...       pos  \n",
       "49452  Eu não li os outros comentários sobre o filme,...       pos  \n",
       "49453  Life Stinks 1991 foi um passo abaixo de outras...       pos  \n",
       "49454  Como a média de votos era muito baixa, e o fat...       pos  \n",
       "49455  O enredo teve algumas reviravoltas infelizes e...       pos  \n",
       "49456  Estou espantado com a forma como este filme e ...       pos  \n",
       "49457  A Christmas Together realmente veio antes do m...       pos  \n",
       "49458  O drama romântico da classe trabalhadora do di...       pos  \n",
       "\n",
       "[49459 rows x 4 columns]"
      ]
     },
     "execution_count": 2,
     "metadata": {
      "tags": []
     },
     "output_type": "execute_result"
    }
   ],
   "source": [
    "resenha"
   ]
  },
  {
   "cell_type": "code",
   "execution_count": 0,
   "metadata": {
    "colab": {},
    "colab_type": "code",
    "id": "4HSqrKecmpEC",
    "outputId": "b2deb4d7-a8ce-4d36-f388-04fe2d6fc716"
   },
   "outputs": [
    {
     "name": "stdout",
     "output_type": "stream",
     "text": [
      "Negativo\n",
      "\n",
      "Este é o terceiro filme em um mês que eu assisti que não saiu do jeito que eu esperava. Os dois primeiros são A Dália Negra e Hollywoodland, nenhum dos quais deu novas idéias de quem cometeu os crimes. Eu sempre tive um fascínio com OVNIs e estava tão empolgado para ver um novo filme sobre o tema da investigação sobre OVNIs que não era um comédia. Mas depois de 30 minutos, tudo deu muito errado. Eu poderia ter defendido a atuação, os ângulos de câmera, os estereótipos se houvesse uma boa história sobre perseguir OVNIs, mas nenhum aqui. Eu não estou dizendo que havia algo de errado com o assunto, mas Netflix empurrou este filme como um cético OVNI e um crente de OVNI investigando vários sitations.I parou de assistir a meio caminho. Não posso acreditar que perdi tanto tempo com este. Por favor, não cometa o mesmo erro que eu fiz.\n"
     ]
    }
   ],
   "source": [
    "print(\"Negativo\\n\")\n",
    "print(resenha[\"text_pt\"][200])"
   ]
  },
  {
   "cell_type": "code",
   "execution_count": 0,
   "metadata": {
    "colab": {},
    "colab_type": "code",
    "id": "6kqFuiy3mpEL",
    "outputId": "48483b7f-3e74-4e88-b4f3-e108ef732821"
   },
   "outputs": [
    {
     "name": "stdout",
     "output_type": "stream",
     "text": [
      "Positivo\n",
      "\n",
      "Crescendo em Nova York no final dos anos 80 e início dos anos 90, posso dizer pessoalmente que este é um dos documentários mais importantes feitos para cobrir esse lugar neste período de tempo. Não Madonna não veio com a idéia de Voguing, mas é de onde ela tirou! Em vez de combater a violência uns dos outros ou em brigas de gato, o voguing permitia que as pessoas \"lutassem\" dentro dos confins de tudo, menos que tocassem umas às outras, o que justificaria uma desqualificação automática. Vendo este tipo de extraordinariamente talentosas / bem orquestradas \"jogadas\" nos clubes foi nada menos do que espetacular e todos os grandes nomes de antigamente estão aqui ... Pepper La Beija, Paris Duprée, Xtragavaganza, etc. ..tudo comemorado nos gostos de peças de época como a música de Malcom McLarens \"Deep in Vogue\" ... não importava quem você era, ou de onde você era porque quando você passava por aquelas portas nesse \"reino mágico\" de De certa forma, você se tornou parte de algo maior que você / você era importante / e, o mais importante, a criação de seus próprios movimentos e imaginação ... e qualquer pessoa de qualquer lugar poderia se tornar Rei ou Rainha como poderia ter sido. As palavras e inteligência eram tão afiadas quanto os movimentos no chão. Toda a tensão, excitação e magia dessa energia urbana de NYC é capturada neste filme. BRILHANTE!!! POR FAVOR, LIBERE EM DVD para o mundo ver !!! Obrigado!\n"
     ]
    }
   ],
   "source": [
    "print(\"Positivo\\n\")\n",
    "print(resenha[\"text_pt\"][49002])"
   ]
  },
  {
   "cell_type": "code",
   "execution_count": 0,
   "metadata": {
    "colab": {},
    "colab_type": "code",
    "id": "NT7vdacvmpEU"
   },
   "outputs": [],
   "source": [
    "classificacao = resenha[\"sentiment\"].replace([\"neg\", \"pos\"],[0, 1])"
   ]
  },
  {
   "cell_type": "code",
   "execution_count": 0,
   "metadata": {
    "colab": {},
    "colab_type": "code",
    "id": "O1OLfghrmpEa",
    "outputId": "43575cd6-be8c-4a27-b483-3607dc4a437f"
   },
   "outputs": [
    {
     "data": {
      "text/html": [
       "<div>\n",
       "<style scoped>\n",
       "    .dataframe tbody tr th:only-of-type {\n",
       "        vertical-align: middle;\n",
       "    }\n",
       "\n",
       "    .dataframe tbody tr th {\n",
       "        vertical-align: top;\n",
       "    }\n",
       "\n",
       "    .dataframe thead th {\n",
       "        text-align: right;\n",
       "    }\n",
       "</style>\n",
       "<table border=\"1\" class=\"dataframe\">\n",
       "  <thead>\n",
       "    <tr style=\"text-align: right;\">\n",
       "      <th></th>\n",
       "      <th>id</th>\n",
       "      <th>text_en</th>\n",
       "      <th>text_pt</th>\n",
       "      <th>sentiment</th>\n",
       "      <th>classificacao</th>\n",
       "    </tr>\n",
       "  </thead>\n",
       "  <tbody>\n",
       "    <tr>\n",
       "      <th>0</th>\n",
       "      <td>1</td>\n",
       "      <td>Once again Mr. Costner has dragged out a movie...</td>\n",
       "      <td>Mais uma vez, o Sr. Costner arrumou um filme p...</td>\n",
       "      <td>neg</td>\n",
       "      <td>0</td>\n",
       "    </tr>\n",
       "    <tr>\n",
       "      <th>1</th>\n",
       "      <td>2</td>\n",
       "      <td>This is an example of why the majority of acti...</td>\n",
       "      <td>Este é um exemplo do motivo pelo qual a maiori...</td>\n",
       "      <td>neg</td>\n",
       "      <td>0</td>\n",
       "    </tr>\n",
       "    <tr>\n",
       "      <th>2</th>\n",
       "      <td>3</td>\n",
       "      <td>First of all I hate those moronic rappers, who...</td>\n",
       "      <td>Primeiro de tudo eu odeio esses raps imbecis, ...</td>\n",
       "      <td>neg</td>\n",
       "      <td>0</td>\n",
       "    </tr>\n",
       "    <tr>\n",
       "      <th>3</th>\n",
       "      <td>4</td>\n",
       "      <td>Not even the Beatles could write songs everyon...</td>\n",
       "      <td>Nem mesmo os Beatles puderam escrever músicas ...</td>\n",
       "      <td>neg</td>\n",
       "      <td>0</td>\n",
       "    </tr>\n",
       "    <tr>\n",
       "      <th>4</th>\n",
       "      <td>5</td>\n",
       "      <td>Brass pictures movies is not a fitting word fo...</td>\n",
       "      <td>Filmes de fotos de latão não é uma palavra apr...</td>\n",
       "      <td>neg</td>\n",
       "      <td>0</td>\n",
       "    </tr>\n",
       "  </tbody>\n",
       "</table>\n",
       "</div>"
      ],
      "text/plain": [
       "   id                                            text_en  \\\n",
       "0   1  Once again Mr. Costner has dragged out a movie...   \n",
       "1   2  This is an example of why the majority of acti...   \n",
       "2   3  First of all I hate those moronic rappers, who...   \n",
       "3   4  Not even the Beatles could write songs everyon...   \n",
       "4   5  Brass pictures movies is not a fitting word fo...   \n",
       "\n",
       "                                             text_pt sentiment  classificacao  \n",
       "0  Mais uma vez, o Sr. Costner arrumou um filme p...       neg              0  \n",
       "1  Este é um exemplo do motivo pelo qual a maiori...       neg              0  \n",
       "2  Primeiro de tudo eu odeio esses raps imbecis, ...       neg              0  \n",
       "3  Nem mesmo os Beatles puderam escrever músicas ...       neg              0  \n",
       "4  Filmes de fotos de latão não é uma palavra apr...       neg              0  "
      ]
     },
     "execution_count": 6,
     "metadata": {
      "tags": []
     },
     "output_type": "execute_result"
    }
   ],
   "source": [
    "resenha[\"classificacao\"] = classificacao\n",
    "resenha.head()"
   ]
  },
  {
   "cell_type": "code",
   "execution_count": 0,
   "metadata": {
    "colab": {},
    "colab_type": "code",
    "id": "bWEOQxCWmpEn",
    "outputId": "baa212ac-c7ae-40c5-c0d3-ccbcb7a6c2de"
   },
   "outputs": [
    {
     "data": {
      "text/html": [
       "<div>\n",
       "<style scoped>\n",
       "    .dataframe tbody tr th:only-of-type {\n",
       "        vertical-align: middle;\n",
       "    }\n",
       "\n",
       "    .dataframe tbody tr th {\n",
       "        vertical-align: top;\n",
       "    }\n",
       "\n",
       "    .dataframe thead th {\n",
       "        text-align: right;\n",
       "    }\n",
       "</style>\n",
       "<table border=\"1\" class=\"dataframe\">\n",
       "  <thead>\n",
       "    <tr style=\"text-align: right;\">\n",
       "      <th></th>\n",
       "      <th>id</th>\n",
       "      <th>text_en</th>\n",
       "      <th>text_pt</th>\n",
       "      <th>sentiment</th>\n",
       "      <th>classificacao</th>\n",
       "    </tr>\n",
       "  </thead>\n",
       "  <tbody>\n",
       "    <tr>\n",
       "      <th>49454</th>\n",
       "      <td>49456</td>\n",
       "      <td>Seeing as the vote average was pretty low, and...</td>\n",
       "      <td>Como a média de votos era muito baixa, e o fat...</td>\n",
       "      <td>pos</td>\n",
       "      <td>1</td>\n",
       "    </tr>\n",
       "    <tr>\n",
       "      <th>49455</th>\n",
       "      <td>49457</td>\n",
       "      <td>The plot had some wretched, unbelievable twist...</td>\n",
       "      <td>O enredo teve algumas reviravoltas infelizes e...</td>\n",
       "      <td>pos</td>\n",
       "      <td>1</td>\n",
       "    </tr>\n",
       "    <tr>\n",
       "      <th>49456</th>\n",
       "      <td>49458</td>\n",
       "      <td>I am amazed at how this movieand most others h...</td>\n",
       "      <td>Estou espantado com a forma como este filme e ...</td>\n",
       "      <td>pos</td>\n",
       "      <td>1</td>\n",
       "    </tr>\n",
       "    <tr>\n",
       "      <th>49457</th>\n",
       "      <td>49459</td>\n",
       "      <td>A Christmas Together actually came before my t...</td>\n",
       "      <td>A Christmas Together realmente veio antes do m...</td>\n",
       "      <td>pos</td>\n",
       "      <td>1</td>\n",
       "    </tr>\n",
       "    <tr>\n",
       "      <th>49458</th>\n",
       "      <td>49460</td>\n",
       "      <td>Working-class romantic drama from director Mar...</td>\n",
       "      <td>O drama romântico da classe trabalhadora do di...</td>\n",
       "      <td>pos</td>\n",
       "      <td>1</td>\n",
       "    </tr>\n",
       "  </tbody>\n",
       "</table>\n",
       "</div>"
      ],
      "text/plain": [
       "          id                                            text_en  \\\n",
       "49454  49456  Seeing as the vote average was pretty low, and...   \n",
       "49455  49457  The plot had some wretched, unbelievable twist...   \n",
       "49456  49458  I am amazed at how this movieand most others h...   \n",
       "49457  49459  A Christmas Together actually came before my t...   \n",
       "49458  49460  Working-class romantic drama from director Mar...   \n",
       "\n",
       "                                                 text_pt sentiment  \\\n",
       "49454  Como a média de votos era muito baixa, e o fat...       pos   \n",
       "49455  O enredo teve algumas reviravoltas infelizes e...       pos   \n",
       "49456  Estou espantado com a forma como este filme e ...       pos   \n",
       "49457  A Christmas Together realmente veio antes do m...       pos   \n",
       "49458  O drama romântico da classe trabalhadora do di...       pos   \n",
       "\n",
       "       classificacao  \n",
       "49454              1  \n",
       "49455              1  \n",
       "49456              1  \n",
       "49457              1  \n",
       "49458              1  "
      ]
     },
     "execution_count": 7,
     "metadata": {
      "tags": []
     },
     "output_type": "execute_result"
    }
   ],
   "source": [
    "resenha.tail()"
   ]
  },
  {
   "cell_type": "code",
   "execution_count": 0,
   "metadata": {
    "colab": {},
    "colab_type": "code",
    "id": "-v6ifmQWmpEx",
    "outputId": "acdc91e8-43bc-4860-b010-788858b97f2e",
    "scrolled": true
   },
   "outputs": [
    {
     "name": "stdout",
     "output_type": "stream",
     "text": [
      "0    24765\n",
      "1    24694\n",
      "Name: classificacao, dtype: int64\n"
     ]
    }
   ],
   "source": [
    "print(resenha[\"classificacao\"].value_counts())"
   ]
  },
  {
   "cell_type": "code",
   "execution_count": 0,
   "metadata": {
    "colab": {},
    "colab_type": "code",
    "id": "3YLhrpLmmpFD"
   },
   "outputs": [],
   "source": [
    "from sklearn.feature_extraction.text import CountVectorizer\n",
    "\n",
    "textos = [\"Assisti um filme ótimo\", \"Assisti um filme péssimo\"]\n",
    "\n",
    "vetorizar = CountVectorizer(lowercase = False)\n",
    "bag_of_words = vetorizar.fit_transform(textos)\n"
   ]
  },
  {
   "cell_type": "code",
   "execution_count": 0,
   "metadata": {
    "colab": {},
    "colab_type": "code",
    "id": "3m1xc2ZzmpFN",
    "outputId": "5611b0f2-eaa3-47d3-b2ea-faa18492a48e"
   },
   "outputs": [
    {
     "data": {
      "text/plain": [
       "<2x5 sparse matrix of type '<class 'numpy.int64'>'\n",
       "\twith 8 stored elements in Compressed Sparse Row format>"
      ]
     },
     "execution_count": 10,
     "metadata": {
      "tags": []
     },
     "output_type": "execute_result"
    }
   ],
   "source": [
    "bag_of_words"
   ]
  },
  {
   "cell_type": "code",
   "execution_count": 0,
   "metadata": {
    "colab": {},
    "colab_type": "code",
    "id": "HbcOscvnmpFZ",
    "outputId": "9a2187a8-36b8-4ddb-9edf-39914f9a520a"
   },
   "outputs": [
    {
     "data": {
      "text/plain": [
       "['Assisti', 'filme', 'péssimo', 'um', 'ótimo']"
      ]
     },
     "execution_count": 11,
     "metadata": {
      "tags": []
     },
     "output_type": "execute_result"
    }
   ],
   "source": [
    "vetorizar.get_feature_names()"
   ]
  },
  {
   "cell_type": "code",
   "execution_count": 0,
   "metadata": {
    "colab": {},
    "colab_type": "code",
    "id": "a-Bfgb-pmpFi",
    "outputId": "1425c2ab-fa93-478a-e36f-d238c708e0a7"
   },
   "outputs": [
    {
     "data": {
      "text/html": [
       "<div>\n",
       "<style scoped>\n",
       "    .dataframe tbody tr th:only-of-type {\n",
       "        vertical-align: middle;\n",
       "    }\n",
       "\n",
       "    .dataframe tbody tr th {\n",
       "        vertical-align: top;\n",
       "    }\n",
       "\n",
       "    .dataframe thead th {\n",
       "        text-align: right;\n",
       "    }\n",
       "</style>\n",
       "<table border=\"1\" class=\"dataframe\">\n",
       "  <thead>\n",
       "    <tr style=\"text-align: right;\">\n",
       "      <th></th>\n",
       "      <th>Assisti</th>\n",
       "      <th>filme</th>\n",
       "      <th>péssimo</th>\n",
       "      <th>um</th>\n",
       "      <th>ótimo</th>\n",
       "    </tr>\n",
       "  </thead>\n",
       "  <tbody>\n",
       "    <tr>\n",
       "      <th>0</th>\n",
       "      <td>1</td>\n",
       "      <td>1</td>\n",
       "      <td>NaN</td>\n",
       "      <td>1</td>\n",
       "      <td>1.0</td>\n",
       "    </tr>\n",
       "    <tr>\n",
       "      <th>1</th>\n",
       "      <td>1</td>\n",
       "      <td>1</td>\n",
       "      <td>1.0</td>\n",
       "      <td>1</td>\n",
       "      <td>NaN</td>\n",
       "    </tr>\n",
       "  </tbody>\n",
       "</table>\n",
       "</div>"
      ],
      "text/plain": [
       "   Assisti  filme  péssimo  um  ótimo\n",
       "0        1      1      NaN   1    1.0\n",
       "1        1      1      1.0   1    NaN"
      ]
     },
     "execution_count": 12,
     "metadata": {
      "tags": []
     },
     "output_type": "execute_result"
    }
   ],
   "source": [
    "vetorizado = pd.SparseDataFrame(\n",
    "    bag_of_words,\n",
    "    columns = vetorizar.get_feature_names()\n",
    ")\n",
    "vetorizado"
   ]
  },
  {
   "cell_type": "markdown",
   "metadata": {},
   "source": [
    "### Classificando sentimentos: um passo-a-passo"
   ]
  },
  {
   "cell_type": "code",
   "execution_count": 0,
   "metadata": {
    "colab": {},
    "colab_type": "code",
    "id": "9oCpXvuimpFo"
   },
   "outputs": [],
   "source": [
    "vetorizar = CountVectorizer(lowercase = False, max_features = 50)\n",
    "bag_of_words = vetorizar.fit_transform(resenha[\"text_pt\"])"
   ]
  },
  {
   "cell_type": "code",
   "execution_count": 0,
   "metadata": {
    "colab": {},
    "colab_type": "code",
    "id": "6AHip8WjmpFs",
    "outputId": "468c452d-9767-44e9-ad87-a59d08c91665"
   },
   "outputs": [
    {
     "name": "stdout",
     "output_type": "stream",
     "text": [
      "(49459, 50)\n"
     ]
    }
   ],
   "source": [
    "print(bag_of_words.shape)"
   ]
  },
  {
   "cell_type": "code",
   "execution_count": 0,
   "metadata": {
    "colab": {},
    "colab_type": "code",
    "id": "s1IOe225mpF0"
   },
   "outputs": [],
   "source": [
    "from sklearn.model_selection import train_test_split\n",
    "\n",
    "\n",
    "treino, teste, classe_treino, classe_teste = train_test_split(bag_of_words,\n",
    "                                                              resenha[\"classificacao\"],\n",
    "                                                              random_state = 42)\n"
   ]
  },
  {
   "cell_type": "code",
   "execution_count": 0,
   "metadata": {
    "colab": {},
    "colab_type": "code",
    "id": "zrJb51ytmpF8",
    "outputId": "005c5e27-d637-41b0-e03e-1c5f39134fd9"
   },
   "outputs": [
    {
     "name": "stdout",
     "output_type": "stream",
     "text": [
      "(37094, 50)\n",
      "(12365, 50)\n"
     ]
    }
   ],
   "source": [
    "print(treino.shape)\n",
    "print(teste.shape)"
   ]
  },
  {
   "cell_type": "code",
   "execution_count": 0,
   "metadata": {
    "colab": {},
    "colab_type": "code",
    "id": "MZJ8gaeTmpGP",
    "outputId": "9b95929c-0260-470b-9238-04144f7564c9"
   },
   "outputs": [
    {
     "name": "stdout",
     "output_type": "stream",
     "text": [
      "[[0.25696739 0.74303261]\n",
      " [0.72224991 0.27775009]\n",
      " [0.70076066 0.29923934]\n",
      " ...\n",
      " [0.46019618 0.53980382]\n",
      " [0.46166722 0.53833278]\n",
      " [0.61777927 0.38222073]]\n"
     ]
    }
   ],
   "source": [
    "from sklearn.linear_model import LogisticRegression\n",
    "\n",
    "regressao_logistica = LogisticRegression(solver = \"lbfgs\")\n",
    "regressao_logistica.fit(treino, classe_treino)\n",
    "previsao_teste = regressao_logistica.predict_proba(teste)\n",
    "print(previsao_teste)"
   ]
  },
  {
   "cell_type": "code",
   "execution_count": 0,
   "metadata": {
    "colab": {},
    "colab_type": "code",
    "id": "R1qbXaLHmpGg",
    "outputId": "510ba90b-c5d0-41af-cf7d-a7a0684a4bde"
   },
   "outputs": [
    {
     "name": "stdout",
     "output_type": "stream",
     "text": [
      "[ True False False ...  True  True False]\n"
     ]
    }
   ],
   "source": [
    "previsao_teste_bol = previsao_teste[:,1] >= 0.5\n",
    "print(previsao_teste_bol)"
   ]
  },
  {
   "cell_type": "code",
   "execution_count": 0,
   "metadata": {
    "colab": {},
    "colab_type": "code",
    "id": "-P9Bi-9wmpGu",
    "outputId": "e8f27407-0e98-470f-ca6b-3b7b33f0b402"
   },
   "outputs": [
    {
     "name": "stdout",
     "output_type": "stream",
     "text": [
      "[1 0 0 ... 1 1 0]\n"
     ]
    }
   ],
   "source": [
    "import numpy as np\n",
    "\n",
    "previsao_teste_int = previsao_teste_bol.astype(np.int)\n",
    "print(previsao_teste_int)"
   ]
  },
  {
   "cell_type": "code",
   "execution_count": 0,
   "metadata": {
    "colab": {},
    "colab_type": "code",
    "id": "WCwf_rDGmpGz",
    "outputId": "2a97ad3c-cc9c-4c00-cdae-2e2a09d60258"
   },
   "outputs": [
    {
     "name": "stdout",
     "output_type": "stream",
     "text": [
      "0.6583097452486858\n"
     ]
    }
   ],
   "source": [
    "from sklearn.metrics import accuracy_score\n",
    "\n",
    "acuracia_teste = accuracy_score(classe_teste, previsao_teste_int)\n",
    "print(acuracia_teste)"
   ]
  }
 ],
 "metadata": {
  "colab": {
   "name": "PLN.ipynb",
   "provenance": [],
   "version": "0.3.2"
  },
  "kernelspec": {
   "display_name": "Python 3",
   "language": "python",
   "name": "python3"
  },
  "language_info": {
   "codemirror_mode": {
    "name": "ipython",
    "version": 3
   },
   "file_extension": ".py",
   "mimetype": "text/x-python",
   "name": "python",
   "nbconvert_exporter": "python",
   "pygments_lexer": "ipython3",
   "version": "3.6.5"
  }
 },
 "nbformat": 4,
 "nbformat_minor": 1
}
